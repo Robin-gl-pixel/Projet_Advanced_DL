{
  "cells": [
    {
      "cell_type": "markdown",
      "id": "Nsoh7QP8qRbq",
      "metadata": {
        "id": "Nsoh7QP8qRbq"
      },
      "source": [
        "# Copy of data exporting an proccessing Code\n",
        "****\n",
        "\n"
      ]
    },
    {
      "cell_type": "code",
      "execution_count": 1,
      "id": "88aav2D8qZpj",
      "metadata": {
        "id": "88aav2D8qZpj",
        "colab": {
          "base_uri": "https://localhost:8080/"
        },
        "outputId": "062d7d1e-9363-4fc4-f996-b6bfba77052d"
      },
      "outputs": [
        {
          "output_type": "stream",
          "name": "stdout",
          "text": [
            "Collecting split-folders\n",
            "  Downloading split_folders-0.5.1-py3-none-any.whl (8.4 kB)\n",
            "Installing collected packages: split-folders\n",
            "Successfully installed split-folders-0.5.1\n",
            "There are 20 different categories, which are:\n",
            "['BearHead', 'CatHead', 'ChickenHead', 'CowHead', 'DeerHead', 'DogHead', 'DuckHead', 'EagleHead', 'ElephantHead', 'HumanHead', 'LionHead', 'MonkeyHead', 'MouseHead', 'PandaHead', 'PigHead', 'PigeonHead', 'RabbitHead', 'SheepHead', 'TigerHead', 'WolfHead']\n",
            "\n",
            "\n",
            "The chosen categories for One-Shot Learning are: ['DuckHead', 'WolfHead', 'PigHead', 'LionHead', 'EagleHead']\n"
          ]
        },
        {
          "output_type": "stream",
          "name": "stderr",
          "text": [
            "Copying files: 502 files [00:00, 2130.62 files/s]\n",
            "Copying files: 1905 files [00:01, 1884.74 files/s]\n"
          ]
        }
      ],
      "source": [
        "! pip install split-folders\n",
        "\n",
        "import matplotlib.pyplot as plt\n",
        "import numpy as np\n",
        "import os\n",
        "import splitfolders #(pip install split-folders)\n",
        "import tensorflow as tf\n",
        "import shutil\n",
        "import urllib.request\n",
        "import zipfile\n",
        "\n",
        "## Downloading the database\n",
        "\n",
        "# If you do not posess the AnimalFace.zip archive, this cells downloads it\n",
        "\n",
        "if not os.path.exists('data'):\n",
        "    os.makedirs('data/')\n",
        "    \n",
        "if not os.path.exists('data/images/') or len(os.listdir('data/images/')) == 0:\n",
        "    if not os.path.exists('data/AnimalFace.zip'):\n",
        "        url = 'https://vcla.stat.ucla.edu/people/zhangzhang-si/HiT/AnimalFace.zip'\n",
        "        urllib.request.urlretrieve(url, 'data/AnimalFace.zip')\n",
        "    with zipfile.ZipFile('data/AnimalFace.zip', 'r') as zip_ref:\n",
        "        zip_ref.extractall('data/')\n",
        "    os.rename('data/Image/', 'data/images/')\n",
        "\n",
        "if os.path.exists('./data/images/Natural'):\n",
        "    shutil.rmtree('./data/images/Natural')\n",
        "\n",
        "# Download the zip and unzip in a folder named Images\n",
        "# And we delete the Natural folder which contains only 8 images non related to AnimalFaces\n",
        "\n",
        "## Chosing the categories for One Shot Learning\n",
        "\n",
        "categories = os.listdir('data/images')\n",
        "if os.path.exists('data/OneShotImages/'):\n",
        "    oneshot_cats = sorted(os.listdir('data/OneShotImages/'))\n",
        "    categories += oneshot_cats\n",
        "categories = sorted([cat for cat in categories])\n",
        "print(f'There are {len(categories)} different categories, which are:', categories, '\\n', sep='\\n')\n",
        "\n",
        "if not os.path.exists('data/OneShotImages/'):\n",
        "    np.random.seed(42)\n",
        "    oneshot_cats = np.random.choice(len(categories), 5)\n",
        "    oneshot_cats = [categories[num] for num in oneshot_cats]\n",
        "print('The chosen categories for One-Shot Learning are:', oneshot_cats)\n",
        "\n",
        "train_cats = list(set(categories) - set(oneshot_cats))\n",
        "\n",
        "if not os.path.exists('data/OneShotImages/'):\n",
        "    os.makedirs('data/OneShotImages/')\n",
        "    for cat in oneshot_cats:\n",
        "        shutil.move('data/images/' + cat, 'data/OneShotImages/' + cat)\n",
        "\n",
        "## Separating the folders into train and test\n",
        "\n",
        "IMAGES_PATH = 'data/images/'\n",
        "IMAGES_OS_PATH = 'data/OneShotImages/'\n",
        "\n",
        "splitfolders.fixed(IMAGES_OS_PATH, output='data/', seed=42, fixed=(1, 0, -1), group_prefix=None, move=False)\n",
        "shutil.rmtree('data/val/')\n",
        "os.rename('data/train/', 'data/train_os/')\n",
        "os.rename('data/test/', 'data/test_os/')\n",
        "\n",
        "splitfolders.ratio(IMAGES_PATH, output='data/', seed=42, ratio=(.8, .0, .2), group_prefix=None, move=False)\n",
        "shutil.rmtree('data/val/')\n",
        "\n",
        "## Visualization of the database\n",
        "\n",
        "batch_size = 32\n",
        "IMG_HEIGHT = 224\n",
        "IMG_WIDTH = 224"
      ]
    },
    {
      "cell_type": "markdown",
      "id": "5LV9zvJgqdHb",
      "metadata": {
        "id": "5LV9zvJgqdHb"
      },
      "source": [
        "# Start of Clip Code\n",
        "****"
      ]
    },
    {
      "cell_type": "code",
      "execution_count": 4,
      "id": "90exzNUlqnsL",
      "metadata": {
        "id": "90exzNUlqnsL",
        "colab": {
          "base_uri": "https://localhost:8080/"
        },
        "outputId": "0c3c5007-ab70-4525-8ea6-e977afc8088d"
      },
      "outputs": [
        {
          "output_type": "stream",
          "name": "stdout",
          "text": [
            "Collecting ftfy\n",
            "  Downloading ftfy-6.1.1-py3-none-any.whl (53 kB)\n",
            "\u001b[?25l\r\u001b[K     |██████▏                         | 10 kB 17.1 MB/s eta 0:00:01\r\u001b[K     |████████████▍                   | 20 kB 15.9 MB/s eta 0:00:01\r\u001b[K     |██████████████████▌             | 30 kB 10.6 MB/s eta 0:00:01\r\u001b[K     |████████████████████████▊       | 40 kB 9.4 MB/s eta 0:00:01\r\u001b[K     |██████████████████████████████▉ | 51 kB 5.7 MB/s eta 0:00:01\r\u001b[K     |████████████████████████████████| 53 kB 1.3 MB/s \n",
            "\u001b[?25hRequirement already satisfied: regex in /usr/local/lib/python3.7/dist-packages (2019.12.20)\n",
            "Requirement already satisfied: tqdm in /usr/local/lib/python3.7/dist-packages (4.63.0)\n",
            "Requirement already satisfied: wcwidth>=0.2.5 in /usr/local/lib/python3.7/dist-packages (from ftfy) (0.2.5)\n",
            "Installing collected packages: ftfy\n",
            "Successfully installed ftfy-6.1.1\n",
            "Collecting git+https://github.com/openai/CLIP.git\n",
            "  Cloning https://github.com/openai/CLIP.git to /tmp/pip-req-build-htgkd8q7\n",
            "  Running command git clone -q https://github.com/openai/CLIP.git /tmp/pip-req-build-htgkd8q7\n",
            "Requirement already satisfied: ftfy in /usr/local/lib/python3.7/dist-packages (from clip==1.0) (6.1.1)\n",
            "Requirement already satisfied: regex in /usr/local/lib/python3.7/dist-packages (from clip==1.0) (2019.12.20)\n",
            "Requirement already satisfied: tqdm in /usr/local/lib/python3.7/dist-packages (from clip==1.0) (4.63.0)\n",
            "Requirement already satisfied: torch in /usr/local/lib/python3.7/dist-packages (from clip==1.0) (1.10.0+cu111)\n",
            "Requirement already satisfied: torchvision in /usr/local/lib/python3.7/dist-packages (from clip==1.0) (0.11.1+cu111)\n",
            "Requirement already satisfied: wcwidth>=0.2.5 in /usr/local/lib/python3.7/dist-packages (from ftfy->clip==1.0) (0.2.5)\n",
            "Requirement already satisfied: typing-extensions in /usr/local/lib/python3.7/dist-packages (from torch->clip==1.0) (3.10.0.2)\n",
            "Requirement already satisfied: numpy in /usr/local/lib/python3.7/dist-packages (from torchvision->clip==1.0) (1.21.5)\n",
            "Requirement already satisfied: pillow!=8.3.0,>=5.3.0 in /usr/local/lib/python3.7/dist-packages (from torchvision->clip==1.0) (7.1.2)\n",
            "Building wheels for collected packages: clip\n",
            "  Building wheel for clip (setup.py) ... \u001b[?25l\u001b[?25hdone\n",
            "  Created wheel for clip: filename=clip-1.0-py3-none-any.whl size=1369221 sha256=e4ff8575d2255ad59cbfaaed8b3800068a4a43a2f13d141047ba7cb374c224e0\n",
            "  Stored in directory: /tmp/pip-ephem-wheel-cache-rja57lg8/wheels/fd/b9/c3/5b4470e35ed76e174bff77c92f91da82098d5e35fd5bc8cdac\n",
            "Successfully built clip\n",
            "Installing collected packages: clip\n",
            "Successfully installed clip-1.0\n"
          ]
        }
      ],
      "source": [
        "! pip install ftfy regex tqdm\n",
        "! pip install git+https://github.com/openai/CLIP.git"
      ]
    },
    {
      "cell_type": "code",
      "execution_count": 5,
      "id": "5fe1c08a",
      "metadata": {
        "id": "5fe1c08a"
      },
      "outputs": [],
      "source": [
        "import time\n",
        "import os\n",
        "import copy\n",
        "\n",
        "import matplotlib.pyplot as plt\n",
        "import numpy as np\n",
        "from PIL import Image\n",
        "\n",
        "import torch\n",
        "import torch.nn as nn\n",
        "import torch.optim as optim\n",
        "import torch.nn.functional as F\n",
        "import torchvision\n",
        "from torchvision import datasets, models, transforms\n",
        "import clip"
      ]
    },
    {
      "cell_type": "markdown",
      "id": "QjRK2F8Zrh51",
      "metadata": {
        "id": "QjRK2F8Zrh51"
      },
      "source": [
        "## Training utils functions"
      ]
    },
    {
      "cell_type": "code",
      "execution_count": 6,
      "id": "4c5b0f7b",
      "metadata": {
        "id": "4c5b0f7b"
      },
      "outputs": [],
      "source": [
        "def train_model(model, dataloaders, criterion, optimizer, num_epochs=25):\n",
        "    since = time.time()\n",
        "\n",
        "    val_acc_history = []\n",
        "\n",
        "    best_model_wts = copy.deepcopy(model.state_dict())\n",
        "    best_acc = 0.0\n",
        "\n",
        "    for epoch in range(num_epochs):\n",
        "        print('Epoch {}/{}'.format(epoch, num_epochs - 1))\n",
        "        print('-' * 10)\n",
        "\n",
        "        # Each epoch has a training and validation phase\n",
        "        for phase in ['train', 'test']:\n",
        "            if phase == 'train':\n",
        "                model.train()  # Set model to training mode\n",
        "            else:\n",
        "                model.eval()   # Set model to evaluate mode\n",
        "\n",
        "            running_loss = 0.0\n",
        "            running_corrects = 0\n",
        "\n",
        "            # Iterate over data.\n",
        "            for inputs, labels in dataloaders[phase]:\n",
        "                inputs = inputs.to(device)\n",
        "                labels = labels.to(device)\n",
        "\n",
        "                # zero the parameter gradients\n",
        "                optimizer.zero_grad()\n",
        "\n",
        "                # forward\n",
        "                # track history if only in train\n",
        "                with torch.set_grad_enabled(phase == 'train'):\n",
        "                    outputs = model(inputs)\n",
        "                    loss = criterion(outputs, labels)\n",
        "\n",
        "                    _, preds = torch.max(outputs, 1)\n",
        "\n",
        "                    # backward + optimize only if in training phase\n",
        "                    if phase == 'train':\n",
        "                        loss.backward()\n",
        "                        optimizer.step()\n",
        "\n",
        "                # statistics\n",
        "                running_loss += loss.item() * inputs.size(0)\n",
        "                running_corrects += torch.sum(preds == labels.data)\n",
        "\n",
        "            epoch_loss = running_loss / len(dataloaders[phase].dataset)\n",
        "            epoch_acc = running_corrects.double() / len(dataloaders[phase].dataset)\n",
        "\n",
        "            print('{} Loss: {:.4f} Acc: {:.4f}'.format(phase, epoch_loss, epoch_acc))\n",
        "\n",
        "            # deep copy the model\n",
        "            if phase == 'test' and epoch_acc > best_acc:\n",
        "                best_acc = epoch_acc\n",
        "                best_model_wts = copy.deepcopy(model.state_dict())\n",
        "            if phase == 'test':\n",
        "                val_acc_history.append(epoch_acc.item())\n",
        "\n",
        "        print()\n",
        "\n",
        "    time_elapsed = time.time() - since\n",
        "    print('Training complete in {:.0f}m {:.0f}s'.format(time_elapsed // 60, time_elapsed % 60))\n",
        "    print('Best val Acc: {:4f}'.format(best_acc))\n",
        "\n",
        "    # load best model weights\n",
        "    model.load_state_dict(best_model_wts)\n",
        "    return model, val_acc_history"
      ]
    },
    {
      "cell_type": "code",
      "execution_count": null,
      "id": "1aac2cf8",
      "metadata": {
        "id": "1aac2cf8"
      },
      "outputs": [],
      "source": [
        "def set_parameter_requires_grad(model, feature_extracting):\n",
        "    if feature_extracting:\n",
        "        for param in model.parameters():\n",
        "            param.requires_grad = False"
      ]
    },
    {
      "cell_type": "code",
      "execution_count": null,
      "id": "cJ3Cq_hCsE5D",
      "metadata": {
        "id": "cJ3Cq_hCsE5D"
      },
      "outputs": [],
      "source": [
        "class model_classif(torch.nn.Module):\n",
        "    def __init__(self,model,n_out,feature_extraction=True):\n",
        "        super(model_classif, self).__init__()\n",
        "        self.model_pretrained = model # The pretrained model\n",
        "\n",
        "        set_parameter_requires_grad(self.model_pretrained,feature_extraction)\n",
        "        self.fc = nn.Linear(self.model_pretrained.output_dim,n_out)  # The output layer we add\n",
        "        self.gle = nn.GELU()  # The activation function\n",
        "\n",
        "    def forward(self,x):\n",
        "        res0=self.model_pretrained(x)\n",
        "        res1=self.fc(res0)\n",
        "        res2=self.gle(res1)\n",
        "\n",
        "        return res2"
      ]
    },
    {
      "cell_type": "markdown",
      "id": "tIwDHHL0r40E",
      "metadata": {
        "id": "tIwDHHL0r40E"
      },
      "source": [
        "## Get Data"
      ]
    },
    {
      "cell_type": "code",
      "execution_count": null,
      "id": "cd3c711c",
      "metadata": {
        "colab": {
          "base_uri": "https://localhost:8080/"
        },
        "id": "cd3c711c",
        "outputId": "93b471ce-e047-4110-f05d-9213d0bc5e8f"
      },
      "outputs": [
        {
          "output_type": "stream",
          "name": "stderr",
          "text": [
            "100%|████████████████████████████████████████| 338M/338M [00:02<00:00, 120MiB/s]\n"
          ]
        }
      ],
      "source": [
        "device = \"cuda\" if torch.cuda.is_available() else \"cpu\"\n",
        "model, preprocess = clip.load(\"ViT-B/32\", device=device)"
      ]
    },
    {
      "cell_type": "code",
      "execution_count": null,
      "id": "ed61bf26",
      "metadata": {
        "id": "ed61bf26"
      },
      "outputs": [],
      "source": [
        "# Number of classes in the dataset\n",
        "num_classes = 15\n",
        "\n",
        "# Batch size for training (change depending on how much memory you have)\n",
        "batch_size = 8\n",
        "\n",
        "# Number of epochs to train for\n",
        "num_epochs = 15\n",
        "\n",
        "# Flag for feature extracting. When False, we finetune the whole model,\n",
        "#   when True we only update the reshaped layer params\n",
        "\n",
        "data_dir = './data/'"
      ]
    },
    {
      "cell_type": "code",
      "execution_count": null,
      "id": "e3001c88",
      "metadata": {
        "colab": {
          "base_uri": "https://localhost:8080/"
        },
        "id": "e3001c88",
        "outputId": "0c7dc461-ae0c-489c-9fb7-8ee007ba8836"
      },
      "outputs": [
        {
          "output_type": "stream",
          "name": "stdout",
          "text": [
            "Initializing Datasets and Dataloaders...\n",
            "cuda:0\n"
          ]
        },
        {
          "output_type": "stream",
          "name": "stderr",
          "text": [
            "/usr/local/lib/python3.7/dist-packages/torch/utils/data/dataloader.py:481: UserWarning: This DataLoader will create 4 worker processes in total. Our suggested max number of worker in current system is 2, which is smaller than what this DataLoader is going to create. Please be aware that excessive worker creation might get DataLoader running slow or even freeze, lower the worker number to avoid potential slowness/freeze if necessary.\n",
            "  cpuset_checked))\n"
          ]
        }
      ],
      "source": [
        "print(\"Initializing Datasets and Dataloaders...\")\n",
        "\n",
        "\n",
        "image_datasets = {x: datasets.ImageFolder(os.path.join(data_dir, x), preprocess) for x in ['train', 'test']}\n",
        "dataloaders_dict = {x: torch.utils.data.DataLoader(image_datasets[x], batch_size=batch_size, shuffle=True, num_workers=4) for x in ['train', 'test']}\n",
        "\n",
        "# Detect if the GPU is available\n",
        "device = torch.device(\"cuda:0\" if torch.cuda.is_available() else \"cpu\")\n",
        "\n",
        "print(device)"
      ]
    },
    {
      "cell_type": "markdown",
      "id": "m-cvkE6GrMaZ",
      "metadata": {
        "id": "m-cvkE6GrMaZ"
      },
      "source": [
        "## First Model"
      ]
    },
    {
      "cell_type": "code",
      "execution_count": null,
      "id": "65819416",
      "metadata": {
        "colab": {
          "base_uri": "https://localhost:8080/"
        },
        "id": "65819416",
        "outputId": "8db19f04-7a92-4577-b0ce-6bab6bff24a4"
      },
      "outputs": [
        {
          "name": "stdout",
          "output_type": "stream",
          "text": [
            "Params to learn:\n",
            "\t fc.weight\n",
            "\t fc.bias\n"
          ]
        }
      ],
      "source": [
        "feature_extract = True\n",
        "\n",
        "model_feat_extr_1 = model_classif(model.visual,n_out=num_classes,feature_extraction=feature_extract)\n",
        "input_size = model.visual.input_resolution\n",
        "\n",
        "\n",
        "\n",
        "model_feat_extr_1 = model_feat_extr_1.to(device).float()\n",
        "\n",
        "# Gather the parameters to be optimized/updated in this run. If we are\n",
        "#  finetuning we will be updating all parameters. However, if we are\n",
        "#  doing feature extract method, we will only update the parameters\n",
        "#  that we have just initialized, i.e. the parameters with requires_grad\n",
        "#  is True.\n",
        "params_to_update = model_feat_extr_1.parameters()\n",
        "print(\"Params to learn:\")\n",
        "if feature_extract:\n",
        "    params_to_update = []\n",
        "    for name,param in model_feat_extr_1.named_parameters():\n",
        "        if param.requires_grad == True:\n",
        "            params_to_update.append(param)\n",
        "            print(\"\\t\",name)\n",
        "else:\n",
        "    for name,param in model_feat_extr_1.named_parameters():\n",
        "        if param.requires_grad == True:\n",
        "            print(\"\\t\",name)\n",
        "\n",
        "# Observe that all parameters are being optimized\n",
        "optimizer_feat_extr_1 = optim.SGD(params_to_update, lr=0.001, momentum=0.9)"
      ]
    },
    {
      "cell_type": "code",
      "execution_count": null,
      "id": "a68ba017",
      "metadata": {
        "colab": {
          "base_uri": "https://localhost:8080/"
        },
        "id": "a68ba017",
        "outputId": "ec72bab2-6684-471c-e399-57a4147b7aa3"
      },
      "outputs": [
        {
          "name": "stdout",
          "output_type": "stream",
          "text": [
            "Epoch 0/14\n",
            "----------\n"
          ]
        },
        {
          "name": "stderr",
          "output_type": "stream",
          "text": [
            "/usr/local/lib/python3.7/dist-packages/torch/utils/data/dataloader.py:481: UserWarning: This DataLoader will create 4 worker processes in total. Our suggested max number of worker in current system is 2, which is smaller than what this DataLoader is going to create. Please be aware that excessive worker creation might get DataLoader running slow or even freeze, lower the worker number to avoid potential slowness/freeze if necessary.\n",
            "  cpuset_checked))\n"
          ]
        },
        {
          "name": "stdout",
          "output_type": "stream",
          "text": [
            "train Loss: 0.8640 Acc: 0.9796\n",
            "test Loss: 0.6251 Acc: 0.9764\n",
            "\n",
            "Epoch 1/14\n",
            "----------\n",
            "train Loss: 0.4925 Acc: 0.9895\n",
            "test Loss: 0.4038 Acc: 0.9869\n",
            "\n",
            "Epoch 2/14\n",
            "----------\n",
            "train Loss: 0.3346 Acc: 0.9921\n",
            "test Loss: 0.2976 Acc: 0.9895\n",
            "\n",
            "Epoch 3/14\n",
            "----------\n",
            "train Loss: 0.2528 Acc: 0.9934\n",
            "test Loss: 0.2362 Acc: 0.9921\n",
            "\n",
            "Epoch 4/14\n",
            "----------\n",
            "train Loss: 0.2041 Acc: 0.9921\n",
            "test Loss: 0.1958 Acc: 0.9895\n",
            "\n",
            "Epoch 5/14\n",
            "----------\n",
            "train Loss: 0.1718 Acc: 0.9934\n",
            "test Loss: 0.1705 Acc: 0.9921\n",
            "\n",
            "Epoch 6/14\n",
            "----------\n",
            "train Loss: 0.1483 Acc: 0.9941\n",
            "test Loss: 0.1508 Acc: 0.9921\n",
            "\n",
            "Epoch 7/14\n",
            "----------\n",
            "train Loss: 0.1316 Acc: 0.9947\n",
            "test Loss: 0.1364 Acc: 0.9921\n",
            "\n",
            "Epoch 8/14\n",
            "----------\n",
            "train Loss: 0.1180 Acc: 0.9941\n",
            "test Loss: 0.1243 Acc: 0.9921\n",
            "\n",
            "Epoch 9/14\n",
            "----------\n",
            "train Loss: 0.1073 Acc: 0.9941\n",
            "test Loss: 0.1150 Acc: 0.9921\n",
            "\n",
            "Epoch 10/14\n",
            "----------\n",
            "train Loss: 0.0986 Acc: 0.9954\n",
            "test Loss: 0.1075 Acc: 0.9921\n",
            "\n",
            "Epoch 11/14\n",
            "----------\n",
            "train Loss: 0.0912 Acc: 0.9954\n",
            "test Loss: 0.1006 Acc: 0.9921\n",
            "\n",
            "Epoch 12/14\n",
            "----------\n",
            "train Loss: 0.0852 Acc: 0.9954\n",
            "test Loss: 0.0955 Acc: 0.9921\n",
            "\n",
            "Epoch 13/14\n",
            "----------\n",
            "train Loss: 0.0799 Acc: 0.9947\n",
            "test Loss: 0.0907 Acc: 0.9921\n",
            "\n",
            "Epoch 14/14\n",
            "----------\n",
            "train Loss: 0.0750 Acc: 0.9961\n",
            "test Loss: 0.0864 Acc: 0.9921\n",
            "\n",
            "Training complete in 4m 46s\n",
            "Best val Acc: 0.992147\n"
          ]
        }
      ],
      "source": [
        "# Setup the loss fxn\n",
        "criterion = nn.CrossEntropyLoss()\n",
        "\n",
        "# Train and evaluate\n",
        "model_feat_extr_1, hist_feat_extr_1 = train_model(model_feat_extr_1, dataloaders_dict, criterion, optimizer_feat_extr_1, num_epochs=num_epochs)"
      ]
    },
    {
      "cell_type": "markdown",
      "id": "7cd88f9a",
      "metadata": {
        "id": "7cd88f9a"
      },
      "source": [
        "## Second Model"
      ]
    },
    {
      "cell_type": "code",
      "execution_count": null,
      "id": "5a788e89",
      "metadata": {
        "id": "5a788e89"
      },
      "outputs": [],
      "source": [
        "model, preprocess = clip.load(\"ViT-B/32\", device=device)"
      ]
    },
    {
      "cell_type": "code",
      "execution_count": null,
      "id": "167039f9",
      "metadata": {
        "colab": {
          "base_uri": "https://localhost:8080/"
        },
        "id": "167039f9",
        "outputId": "dcd6e1bf-456f-467c-853b-335913e854ff"
      },
      "outputs": [
        {
          "name": "stdout",
          "output_type": "stream",
          "text": [
            "Params to learn:\n",
            "\t model_pretrained.class_embedding\n",
            "\t model_pretrained.positional_embedding\n",
            "\t model_pretrained.proj\n",
            "\t model_pretrained.conv1.weight\n",
            "\t model_pretrained.ln_pre.weight\n",
            "\t model_pretrained.ln_pre.bias\n",
            "\t model_pretrained.transformer.resblocks.0.attn.in_proj_weight\n",
            "\t model_pretrained.transformer.resblocks.0.attn.in_proj_bias\n",
            "\t model_pretrained.transformer.resblocks.0.attn.out_proj.weight\n",
            "\t model_pretrained.transformer.resblocks.0.attn.out_proj.bias\n",
            "\t model_pretrained.transformer.resblocks.0.ln_1.weight\n",
            "\t model_pretrained.transformer.resblocks.0.ln_1.bias\n",
            "\t model_pretrained.transformer.resblocks.0.mlp.c_fc.weight\n",
            "\t model_pretrained.transformer.resblocks.0.mlp.c_fc.bias\n",
            "\t model_pretrained.transformer.resblocks.0.mlp.c_proj.weight\n",
            "\t model_pretrained.transformer.resblocks.0.mlp.c_proj.bias\n",
            "\t model_pretrained.transformer.resblocks.0.ln_2.weight\n",
            "\t model_pretrained.transformer.resblocks.0.ln_2.bias\n",
            "\t model_pretrained.transformer.resblocks.1.attn.in_proj_weight\n",
            "\t model_pretrained.transformer.resblocks.1.attn.in_proj_bias\n",
            "\t model_pretrained.transformer.resblocks.1.attn.out_proj.weight\n",
            "\t model_pretrained.transformer.resblocks.1.attn.out_proj.bias\n",
            "\t model_pretrained.transformer.resblocks.1.ln_1.weight\n",
            "\t model_pretrained.transformer.resblocks.1.ln_1.bias\n",
            "\t model_pretrained.transformer.resblocks.1.mlp.c_fc.weight\n",
            "\t model_pretrained.transformer.resblocks.1.mlp.c_fc.bias\n",
            "\t model_pretrained.transformer.resblocks.1.mlp.c_proj.weight\n",
            "\t model_pretrained.transformer.resblocks.1.mlp.c_proj.bias\n",
            "\t model_pretrained.transformer.resblocks.1.ln_2.weight\n",
            "\t model_pretrained.transformer.resblocks.1.ln_2.bias\n",
            "\t model_pretrained.transformer.resblocks.2.attn.in_proj_weight\n",
            "\t model_pretrained.transformer.resblocks.2.attn.in_proj_bias\n",
            "\t model_pretrained.transformer.resblocks.2.attn.out_proj.weight\n",
            "\t model_pretrained.transformer.resblocks.2.attn.out_proj.bias\n",
            "\t model_pretrained.transformer.resblocks.2.ln_1.weight\n",
            "\t model_pretrained.transformer.resblocks.2.ln_1.bias\n",
            "\t model_pretrained.transformer.resblocks.2.mlp.c_fc.weight\n",
            "\t model_pretrained.transformer.resblocks.2.mlp.c_fc.bias\n",
            "\t model_pretrained.transformer.resblocks.2.mlp.c_proj.weight\n",
            "\t model_pretrained.transformer.resblocks.2.mlp.c_proj.bias\n",
            "\t model_pretrained.transformer.resblocks.2.ln_2.weight\n",
            "\t model_pretrained.transformer.resblocks.2.ln_2.bias\n",
            "\t model_pretrained.transformer.resblocks.3.attn.in_proj_weight\n",
            "\t model_pretrained.transformer.resblocks.3.attn.in_proj_bias\n",
            "\t model_pretrained.transformer.resblocks.3.attn.out_proj.weight\n",
            "\t model_pretrained.transformer.resblocks.3.attn.out_proj.bias\n",
            "\t model_pretrained.transformer.resblocks.3.ln_1.weight\n",
            "\t model_pretrained.transformer.resblocks.3.ln_1.bias\n",
            "\t model_pretrained.transformer.resblocks.3.mlp.c_fc.weight\n",
            "\t model_pretrained.transformer.resblocks.3.mlp.c_fc.bias\n",
            "\t model_pretrained.transformer.resblocks.3.mlp.c_proj.weight\n",
            "\t model_pretrained.transformer.resblocks.3.mlp.c_proj.bias\n",
            "\t model_pretrained.transformer.resblocks.3.ln_2.weight\n",
            "\t model_pretrained.transformer.resblocks.3.ln_2.bias\n",
            "\t model_pretrained.transformer.resblocks.4.attn.in_proj_weight\n",
            "\t model_pretrained.transformer.resblocks.4.attn.in_proj_bias\n",
            "\t model_pretrained.transformer.resblocks.4.attn.out_proj.weight\n",
            "\t model_pretrained.transformer.resblocks.4.attn.out_proj.bias\n",
            "\t model_pretrained.transformer.resblocks.4.ln_1.weight\n",
            "\t model_pretrained.transformer.resblocks.4.ln_1.bias\n",
            "\t model_pretrained.transformer.resblocks.4.mlp.c_fc.weight\n",
            "\t model_pretrained.transformer.resblocks.4.mlp.c_fc.bias\n",
            "\t model_pretrained.transformer.resblocks.4.mlp.c_proj.weight\n",
            "\t model_pretrained.transformer.resblocks.4.mlp.c_proj.bias\n",
            "\t model_pretrained.transformer.resblocks.4.ln_2.weight\n",
            "\t model_pretrained.transformer.resblocks.4.ln_2.bias\n",
            "\t model_pretrained.transformer.resblocks.5.attn.in_proj_weight\n",
            "\t model_pretrained.transformer.resblocks.5.attn.in_proj_bias\n",
            "\t model_pretrained.transformer.resblocks.5.attn.out_proj.weight\n",
            "\t model_pretrained.transformer.resblocks.5.attn.out_proj.bias\n",
            "\t model_pretrained.transformer.resblocks.5.ln_1.weight\n",
            "\t model_pretrained.transformer.resblocks.5.ln_1.bias\n",
            "\t model_pretrained.transformer.resblocks.5.mlp.c_fc.weight\n",
            "\t model_pretrained.transformer.resblocks.5.mlp.c_fc.bias\n",
            "\t model_pretrained.transformer.resblocks.5.mlp.c_proj.weight\n",
            "\t model_pretrained.transformer.resblocks.5.mlp.c_proj.bias\n",
            "\t model_pretrained.transformer.resblocks.5.ln_2.weight\n",
            "\t model_pretrained.transformer.resblocks.5.ln_2.bias\n",
            "\t model_pretrained.transformer.resblocks.6.attn.in_proj_weight\n",
            "\t model_pretrained.transformer.resblocks.6.attn.in_proj_bias\n",
            "\t model_pretrained.transformer.resblocks.6.attn.out_proj.weight\n",
            "\t model_pretrained.transformer.resblocks.6.attn.out_proj.bias\n",
            "\t model_pretrained.transformer.resblocks.6.ln_1.weight\n",
            "\t model_pretrained.transformer.resblocks.6.ln_1.bias\n",
            "\t model_pretrained.transformer.resblocks.6.mlp.c_fc.weight\n",
            "\t model_pretrained.transformer.resblocks.6.mlp.c_fc.bias\n",
            "\t model_pretrained.transformer.resblocks.6.mlp.c_proj.weight\n",
            "\t model_pretrained.transformer.resblocks.6.mlp.c_proj.bias\n",
            "\t model_pretrained.transformer.resblocks.6.ln_2.weight\n",
            "\t model_pretrained.transformer.resblocks.6.ln_2.bias\n",
            "\t model_pretrained.transformer.resblocks.7.attn.in_proj_weight\n",
            "\t model_pretrained.transformer.resblocks.7.attn.in_proj_bias\n",
            "\t model_pretrained.transformer.resblocks.7.attn.out_proj.weight\n",
            "\t model_pretrained.transformer.resblocks.7.attn.out_proj.bias\n",
            "\t model_pretrained.transformer.resblocks.7.ln_1.weight\n",
            "\t model_pretrained.transformer.resblocks.7.ln_1.bias\n",
            "\t model_pretrained.transformer.resblocks.7.mlp.c_fc.weight\n",
            "\t model_pretrained.transformer.resblocks.7.mlp.c_fc.bias\n",
            "\t model_pretrained.transformer.resblocks.7.mlp.c_proj.weight\n",
            "\t model_pretrained.transformer.resblocks.7.mlp.c_proj.bias\n",
            "\t model_pretrained.transformer.resblocks.7.ln_2.weight\n",
            "\t model_pretrained.transformer.resblocks.7.ln_2.bias\n",
            "\t model_pretrained.transformer.resblocks.8.attn.in_proj_weight\n",
            "\t model_pretrained.transformer.resblocks.8.attn.in_proj_bias\n",
            "\t model_pretrained.transformer.resblocks.8.attn.out_proj.weight\n",
            "\t model_pretrained.transformer.resblocks.8.attn.out_proj.bias\n",
            "\t model_pretrained.transformer.resblocks.8.ln_1.weight\n",
            "\t model_pretrained.transformer.resblocks.8.ln_1.bias\n",
            "\t model_pretrained.transformer.resblocks.8.mlp.c_fc.weight\n",
            "\t model_pretrained.transformer.resblocks.8.mlp.c_fc.bias\n",
            "\t model_pretrained.transformer.resblocks.8.mlp.c_proj.weight\n",
            "\t model_pretrained.transformer.resblocks.8.mlp.c_proj.bias\n",
            "\t model_pretrained.transformer.resblocks.8.ln_2.weight\n",
            "\t model_pretrained.transformer.resblocks.8.ln_2.bias\n",
            "\t model_pretrained.transformer.resblocks.9.attn.in_proj_weight\n",
            "\t model_pretrained.transformer.resblocks.9.attn.in_proj_bias\n",
            "\t model_pretrained.transformer.resblocks.9.attn.out_proj.weight\n",
            "\t model_pretrained.transformer.resblocks.9.attn.out_proj.bias\n",
            "\t model_pretrained.transformer.resblocks.9.ln_1.weight\n",
            "\t model_pretrained.transformer.resblocks.9.ln_1.bias\n",
            "\t model_pretrained.transformer.resblocks.9.mlp.c_fc.weight\n",
            "\t model_pretrained.transformer.resblocks.9.mlp.c_fc.bias\n",
            "\t model_pretrained.transformer.resblocks.9.mlp.c_proj.weight\n",
            "\t model_pretrained.transformer.resblocks.9.mlp.c_proj.bias\n",
            "\t model_pretrained.transformer.resblocks.9.ln_2.weight\n",
            "\t model_pretrained.transformer.resblocks.9.ln_2.bias\n",
            "\t model_pretrained.transformer.resblocks.10.attn.in_proj_weight\n",
            "\t model_pretrained.transformer.resblocks.10.attn.in_proj_bias\n",
            "\t model_pretrained.transformer.resblocks.10.attn.out_proj.weight\n",
            "\t model_pretrained.transformer.resblocks.10.attn.out_proj.bias\n",
            "\t model_pretrained.transformer.resblocks.10.ln_1.weight\n",
            "\t model_pretrained.transformer.resblocks.10.ln_1.bias\n",
            "\t model_pretrained.transformer.resblocks.10.mlp.c_fc.weight\n",
            "\t model_pretrained.transformer.resblocks.10.mlp.c_fc.bias\n",
            "\t model_pretrained.transformer.resblocks.10.mlp.c_proj.weight\n",
            "\t model_pretrained.transformer.resblocks.10.mlp.c_proj.bias\n",
            "\t model_pretrained.transformer.resblocks.10.ln_2.weight\n",
            "\t model_pretrained.transformer.resblocks.10.ln_2.bias\n",
            "\t model_pretrained.transformer.resblocks.11.attn.in_proj_weight\n",
            "\t model_pretrained.transformer.resblocks.11.attn.in_proj_bias\n",
            "\t model_pretrained.transformer.resblocks.11.attn.out_proj.weight\n",
            "\t model_pretrained.transformer.resblocks.11.attn.out_proj.bias\n",
            "\t model_pretrained.transformer.resblocks.11.ln_1.weight\n",
            "\t model_pretrained.transformer.resblocks.11.ln_1.bias\n",
            "\t model_pretrained.transformer.resblocks.11.mlp.c_fc.weight\n",
            "\t model_pretrained.transformer.resblocks.11.mlp.c_fc.bias\n",
            "\t model_pretrained.transformer.resblocks.11.mlp.c_proj.weight\n",
            "\t model_pretrained.transformer.resblocks.11.mlp.c_proj.bias\n",
            "\t model_pretrained.transformer.resblocks.11.ln_2.weight\n",
            "\t model_pretrained.transformer.resblocks.11.ln_2.bias\n",
            "\t model_pretrained.ln_post.weight\n",
            "\t model_pretrained.ln_post.bias\n",
            "\t fc.weight\n",
            "\t fc.bias\n"
          ]
        }
      ],
      "source": [
        "feature_extract = False\n",
        "\n",
        "model_ft_1 = model_classif(model.visual,n_out=num_classes,feature_extraction=feature_extract)\n",
        "input_size = model.visual.input_resolution\n",
        "\n",
        "\n",
        "\n",
        "model_ft_1 = model_ft_1.to(device).float()\n",
        "\n",
        "# Gather the parameters to be optimized/updated in this run. If we are\n",
        "#  finetuning we will be updating all parameters. However, if we are\n",
        "#  doing feature extract method, we will only update the parameters\n",
        "#  that we have just initialized, i.e. the parameters with requires_grad\n",
        "#  is True.\n",
        "params_to_update = model_ft_1.parameters()\n",
        "print(\"Params to learn:\")\n",
        "if feature_extract:\n",
        "    params_to_update = []\n",
        "    for name,param in model_ft_1.named_parameters():\n",
        "        if param.requires_grad == True:\n",
        "            params_to_update.append(param)\n",
        "            print(\"\\t\",name)\n",
        "else:\n",
        "    for name,param in model_ft_1.named_parameters():\n",
        "        if param.requires_grad == True:\n",
        "            print(\"\\t\",name)\n",
        "\n",
        "# Observe that all parameters are being optimized\n",
        "optimizer_ft_1 = optim.SGD(params_to_update, lr=1e-5, momentum=0.9)"
      ]
    },
    {
      "cell_type": "code",
      "execution_count": null,
      "id": "af38ee0d",
      "metadata": {
        "colab": {
          "base_uri": "https://localhost:8080/"
        },
        "id": "af38ee0d",
        "outputId": "abf35307-d9b3-4edb-ed02-248fb149a1b0",
        "scrolled": true
      },
      "outputs": [
        {
          "name": "stdout",
          "output_type": "stream",
          "text": [
            "Epoch 0/14\n",
            "----------\n"
          ]
        },
        {
          "name": "stderr",
          "output_type": "stream",
          "text": [
            "/usr/local/lib/python3.7/dist-packages/torch/utils/data/dataloader.py:481: UserWarning: This DataLoader will create 4 worker processes in total. Our suggested max number of worker in current system is 2, which is smaller than what this DataLoader is going to create. Please be aware that excessive worker creation might get DataLoader running slow or even freeze, lower the worker number to avoid potential slowness/freeze if necessary.\n",
            "  cpuset_checked))\n"
          ]
        },
        {
          "name": "stdout",
          "output_type": "stream",
          "text": [
            "train Loss: 2.5660 Acc: 0.1803\n",
            "test Loss: 2.3930 Acc: 0.2277\n",
            "\n",
            "Epoch 1/14\n",
            "----------\n",
            "train Loss: 2.2253 Acc: 0.3092\n",
            "test Loss: 2.0351 Acc: 0.4791\n",
            "\n",
            "Epoch 2/14\n",
            "----------\n",
            "train Loss: 1.8158 Acc: 0.6684\n",
            "test Loss: 1.6234 Acc: 0.7827\n",
            "\n",
            "Epoch 3/14\n",
            "----------\n",
            "train Loss: 1.3962 Acc: 0.8724\n",
            "test Loss: 1.2287 Acc: 0.9136\n",
            "\n",
            "Epoch 4/14\n",
            "----------\n",
            "train Loss: 1.0271 Acc: 0.9539\n",
            "test Loss: 0.9152 Acc: 0.9869\n",
            "\n",
            "Epoch 5/14\n",
            "----------\n",
            "train Loss: 0.7499 Acc: 0.9934\n",
            "test Loss: 0.6956 Acc: 0.9895\n",
            "\n",
            "Epoch 6/14\n",
            "----------\n",
            "train Loss: 0.5610 Acc: 0.9980\n",
            "test Loss: 0.5465 Acc: 0.9921\n",
            "\n",
            "Epoch 7/14\n",
            "----------\n",
            "train Loss: 0.4321 Acc: 1.0000\n",
            "test Loss: 0.4440 Acc: 0.9921\n",
            "\n",
            "Epoch 8/14\n",
            "----------\n",
            "train Loss: 0.3437 Acc: 1.0000\n",
            "test Loss: 0.3714 Acc: 0.9921\n",
            "\n",
            "Epoch 9/14\n",
            "----------\n",
            "train Loss: 0.2811 Acc: 1.0000\n",
            "test Loss: 0.3161 Acc: 0.9921\n",
            "\n",
            "Epoch 10/14\n",
            "----------\n",
            "train Loss: 0.2355 Acc: 1.0000\n",
            "test Loss: 0.2774 Acc: 0.9921\n",
            "\n",
            "Epoch 11/14\n",
            "----------\n",
            "train Loss: 0.2017 Acc: 1.0000\n",
            "test Loss: 0.2465 Acc: 0.9921\n",
            "\n",
            "Epoch 12/14\n",
            "----------\n",
            "train Loss: 0.1760 Acc: 1.0000\n",
            "test Loss: 0.2235 Acc: 0.9921\n",
            "\n",
            "Epoch 13/14\n",
            "----------\n",
            "train Loss: 0.1556 Acc: 1.0000\n",
            "test Loss: 0.2019 Acc: 0.9921\n",
            "\n",
            "Epoch 14/14\n",
            "----------\n",
            "train Loss: 0.1392 Acc: 1.0000\n",
            "test Loss: 0.1864 Acc: 0.9921\n",
            "\n",
            "Training complete in 10m 55s\n",
            "Best val Acc: 0.992147\n"
          ]
        }
      ],
      "source": [
        "# Setup the loss fxn\n",
        "criterion = nn.CrossEntropyLoss()\n",
        "\n",
        "# Train and evaluate\n",
        "model_ft_1, hist_ft_1 = train_model(model_ft_1, dataloaders_dict, criterion, optimizer_ft_1, num_epochs=num_epochs)"
      ]
    },
    {
      "cell_type": "markdown",
      "id": "dpfZaXdPrQkw",
      "metadata": {
        "id": "dpfZaXdPrQkw"
      },
      "source": [
        "## Plot Models Performance"
      ]
    },
    {
      "cell_type": "code",
      "execution_count": null,
      "id": "QB5uYMgktBtX",
      "metadata": {
        "colab": {
          "base_uri": "https://localhost:8080/"
        },
        "id": "QB5uYMgktBtX",
        "outputId": "dd659efc-7ffd-4b9a-c025-f88fab44faff",
        "scrolled": true
      },
      "outputs": [
        {
          "data": {
            "text/plain": [
              "0.9764397905759163"
            ]
          },
          "execution_count": 27,
          "metadata": {},
          "output_type": "execute_result"
        }
      ],
      "source": [
        "hist_feat_extr_1[0].item()"
      ]
    },
    {
      "cell_type": "code",
      "execution_count": null,
      "id": "L5ic7DtooYvO",
      "metadata": {
        "colab": {
          "base_uri": "https://localhost:8080/",
          "height": 279
        },
        "id": "L5ic7DtooYvO",
        "outputId": "d6107568-f147-4336-b434-f07e7a2cc5c6"
      },
      "outputs": [
        {
          "data": {
            "image/png": "[encoded data removed]",
            "text/plain": [
              "<Figure size 432x288 with 1 Axes>"
            ]
          },
          "metadata": {
            "needs_background": "light"
          },
          "output_type": "display_data"
        }
      ],
      "source": [
        "fig=plt.figure()\n",
        "\n",
        "plt.plot(range(15),hist_feat_extr_1,label='feature extracting')\n",
        "plt.plot(range(15),hist_ft_1,label='fine tuning SGD')\n",
        "plt.xlabel('epochs')\n",
        "plt.ylabel('val acc')\n",
        "plt.legend();"
      ]
    },
    {
      "cell_type": "markdown",
      "id": "666532a4",
      "metadata": {
        "id": "666532a4"
      },
      "source": [
        "# One shot"
      ]
    },
    {
      "cell_type": "code",
      "source": [
        "print(\"Initializing Datasets and Dataloaders...\")\n",
        "\n",
        "device = torch.device(\"cuda:0\" if torch.cuda.is_available() else \"cpu\")\n",
        "\n",
        "model, preprocess = clip.load('ViT-B/32', device)\n",
        "\n",
        "data_dir = './data/'\n",
        "\n",
        "image_datasets_one_shot = datasets.ImageFolder(os.path.join(data_dir, \"test_os\"), preprocess)\n",
        "dataloaders_one_shot  = torch.utils.data.DataLoader(image_datasets_one_shot, batch_size=1, shuffle=True, num_workers=4)\n",
        "\n",
        "image_datasets_train_one_shot = datasets.ImageFolder(os.path.join(data_dir, \"train_os\"), preprocess)\n",
        "dataloaders_train_one_shot  = torch.utils.data.DataLoader(image_datasets_one_shot, batch_size=1, shuffle=True, num_workers=4)\n",
        "\n",
        "# Detect if the GPU is available\n",
        "\n",
        "print(device)"
      ],
      "metadata": {
        "colab": {
          "base_uri": "https://localhost:8080/"
        },
        "id": "TUJGq9I3lkVQ",
        "outputId": "e9993eb0-391f-4bdc-fd43-4918880e6a98"
      },
      "id": "TUJGq9I3lkVQ",
      "execution_count": 59,
      "outputs": [
        {
          "output_type": "stream",
          "name": "stdout",
          "text": [
            "Initializing Datasets and Dataloaders...\n",
            "cuda:0\n"
          ]
        },
        {
          "output_type": "stream",
          "name": "stderr",
          "text": [
            "/usr/local/lib/python3.7/dist-packages/torch/utils/data/dataloader.py:481: UserWarning: This DataLoader will create 4 worker processes in total. Our suggested max number of worker in current system is 2, which is smaller than what this DataLoader is going to create. Please be aware that excessive worker creation might get DataLoader running slow or even freeze, lower the worker number to avoid potential slowness/freeze if necessary.\n",
            "  cpuset_checked))\n"
          ]
        }
      ]
    },
    {
      "cell_type": "code",
      "source": [
        "image_datasets_train_one_shot = datasets.ImageFolder(os.path.join(data_dir, \"train_os\"), preprocess)\n",
        "dataloaders_train_one_shot  = torch.utils.data.DataLoader(image_datasets_train_one_shot, batch_size=1, shuffle=False, num_workers=4)\n",
        "# Calculate features\n",
        "success = 0\n",
        "nb_tot = 0\n",
        "\n",
        "\n",
        "\n",
        "with torch.no_grad():\n",
        "  train_features = torch.cat([model.encode_image(inputs.to(device)) for inputs, labels in dataloaders_train_one_shot])\n",
        "  train_features /= train_features.norm(dim=-1, keepdim=True)\n",
        "\n",
        "  for inputs, labels in dataloaders_one_shot:\n",
        "    inputs = inputs.to(device)\n",
        "    image_features = model.encode_image(inputs)\n",
        "    image_features /= image_features.norm(dim=-1, keepdim=True)\n",
        "    similarity = (100.0 * image_features @ train_features.T).softmax(dim=-1)\n",
        "    values, indices = similarity[0].topk(1)\n",
        "    if indices.item() == labels.item():\n",
        "      success += 1\n",
        "    nb_tot += 1\n",
        "\n",
        "accuracy = success/nb_tot\n",
        "print(accuracy)"
      ],
      "metadata": {
        "colab": {
          "base_uri": "https://localhost:8080/"
        },
        "id": "e8fHi_f2m1tV",
        "outputId": "e9ab979e-95f1-4f58-cd15-5048caaf78ae"
      },
      "id": "e8fHi_f2m1tV",
      "execution_count": 69,
      "outputs": [
        {
          "output_type": "stream",
          "name": "stderr",
          "text": [
            "/usr/local/lib/python3.7/dist-packages/torch/utils/data/dataloader.py:481: UserWarning: This DataLoader will create 4 worker processes in total. Our suggested max number of worker in current system is 2, which is smaller than what this DataLoader is going to create. Please be aware that excessive worker creation might get DataLoader running slow or even freeze, lower the worker number to avoid potential slowness/freeze if necessary.\n",
            "  cpuset_checked))\n"
          ]
        },
        {
          "output_type": "stream",
          "name": "stdout",
          "text": [
            "0.9798792756539235\n"
          ]
        }
      ]
    },
    {
      "cell_type": "code",
      "execution_count": 58,
      "id": "dcda5fee",
      "metadata": {
        "colab": {
          "base_uri": "https://localhost:8080/"
        },
        "id": "dcda5fee",
        "outputId": "27f19e1c-d617-4573-b000-429319201a99"
      },
      "outputs": [
        {
          "output_type": "stream",
          "name": "stderr",
          "text": [
            "/usr/local/lib/python3.7/dist-packages/torch/utils/data/dataloader.py:481: UserWarning: This DataLoader will create 4 worker processes in total. Our suggested max number of worker in current system is 2, which is smaller than what this DataLoader is going to create. Please be aware that excessive worker creation might get DataLoader running slow or even freeze, lower the worker number to avoid potential slowness/freeze if necessary.\n",
            "  cpuset_checked))\n"
          ]
        },
        {
          "output_type": "stream",
          "name": "stdout",
          "text": [
            "0.1851106639839034\n"
          ]
        }
      ],
      "source": [
        "# Calculate features\n",
        "success = 0\n",
        "nb_tot = 0\n",
        "\n",
        "\n",
        "\n",
        "with torch.no_grad():\n",
        "  text_inputs = torch.cat([clip.tokenize(f\"a photo of a {c}\") for c in oneshot_cats]).to(device)\n",
        "  text_features = model.encode_text(text_inputs)\n",
        "  text_features /= text_features.norm(dim=-1, keepdim=True)\n",
        "\n",
        "  for inputs, labels in dataloaders_one_shot:\n",
        "    inputs = inputs.to(device)\n",
        "    image_features = model.encode_image(inputs)\n",
        "    image_features /= image_features.norm(dim=-1, keepdim=True)\n",
        "    similarity = (100.0 * image_features @ text_features.T).softmax(dim=-1)\n",
        "    values, indices = similarity[0].topk(1)\n",
        "    if indices.item() == labels.item():\n",
        "      success += 1\n",
        "    nb_tot += 1\n",
        "\n",
        "accuracy = success/nb_tot\n",
        "print(accuracy)"
      ]
    },
    {
      "cell_type": "code",
      "source": [
        "print(accuracy)"
      ],
      "metadata": {
        "colab": {
          "base_uri": "https://localhost:8080/"
        },
        "id": "xxJigVIDjgvQ",
        "outputId": "68495fec-6af3-42a0-cf35-b3e86ce677dc"
      },
      "id": "xxJigVIDjgvQ",
      "execution_count": 55,
      "outputs": [
        {
          "output_type": "stream",
          "name": "stdout",
          "text": [
            "0.0\n"
          ]
        }
      ]
    },
    {
      "cell_type": "code",
      "source": [
        "oneshot_cats"
      ],
      "metadata": {
        "colab": {
          "base_uri": "https://localhost:8080/"
        },
        "id": "FEc-f6qplAQg",
        "outputId": "9dcec2da-8e31-4200-b95a-d15c9971d439"
      },
      "id": "FEc-f6qplAQg",
      "execution_count": 49,
      "outputs": [
        {
          "output_type": "execute_result",
          "data": {
            "text/plain": [
              "['DuckHead', 'WolfHead', 'PigHead', 'LionHead', 'EagleHead']"
            ]
          },
          "metadata": {},
          "execution_count": 49
        }
      ]
    },
    {
      "cell_type": "code",
      "source": [
        ""
      ],
      "metadata": {
        "id": "V20d7XhFlM06"
      },
      "id": "V20d7XhFlM06",
      "execution_count": null,
      "outputs": []
    }
  ],
  "metadata": {
    "accelerator": "GPU",
    "colab": {
      "collapsed_sections": [
        "7cd88f9a",
        "dpfZaXdPrQkw"
      ],
      "name": "Clip_.ipynb",
      "provenance": []
    },
    "kernelspec": {
      "display_name": "Python 3 (ipykernel)",
      "language": "python",
      "name": "python3"
    },
    "language_info": {
      "codemirror_mode": {
        "name": "ipython",
        "version": 3
      },
      "file_extension": ".py",
      "mimetype": "text/x-python",
      "name": "python",
      "nbconvert_exporter": "python",
      "pygments_lexer": "ipython3",
      "version": "3.9.7"
    }
  },
  "nbformat": 4,
  "nbformat_minor": 5
}