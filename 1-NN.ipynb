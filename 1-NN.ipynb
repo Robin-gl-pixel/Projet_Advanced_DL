{
 "cells": [
  {
   "cell_type": "code",
   "execution_count": 2,
   "metadata": {},
   "outputs": [],
   "source": [
    "import numpy as np\n",
    "from PIL import Image\n",
    "import os"
   ]
  },
  {
   "cell_type": "code",
   "execution_count": 4,
   "metadata": {},
   "outputs": [],
   "source": [
    "path_data=os.getcwd()+'/data/'"
   ]
  },
  {
   "cell_type": "code",
   "execution_count": 15,
   "metadata": {},
   "outputs": [
    {
     "name": "stdout",
     "output_type": "stream",
     "text": [
      "PigHead\n",
      "WolfHead\n",
      "EagleHead\n",
      "DuckHead\n",
      "LionHead\n"
     ]
    }
   ],
   "source": [
    "train_images = []\n",
    "for dossier in os.listdir(path_data+'train_os/'):\n",
    "    print(dossier)\n",
    "    train_images.append(np.array(Image.open(path_data+'train_os/'+dossier+'/'+\n",
    "                                            os.listdir(path_data+'train_os/'+dossier)[0]).resize((105,105))))"
   ]
  },
  {
   "cell_type": "code",
   "execution_count": 11,
   "metadata": {},
   "outputs": [],
   "source": [
    "train_labels = [\"PigHead\",\n",
    "\"WolfHead\",\n",
    "\"EagleHead\",\n",
    "\"DuckHead\",\n",
    "\"LionHead\"]"
   ]
  },
  {
   "cell_type": "code",
   "execution_count": 31,
   "metadata": {},
   "outputs": [
    {
     "name": "stdout",
     "output_type": "stream",
     "text": [
      "0.25553319919517103\n"
     ]
    }
   ],
   "source": [
    "score = 0\n",
    "total = 0\n",
    "for dossier in os.listdir(path_data+'test_os/'):\n",
    "    path = path_data+'test_os/'+dossier+'/'\n",
    "    for file in os.listdir(path):\n",
    "        distances = []\n",
    "        image = np.array(Image.open(path+file).resize((105,105)))\n",
    "        for i in range (len(train_images)):\n",
    "            distances.append(np.linalg.norm(train_images[i]-image))\n",
    "        pred = np.argmin(np.array(distances))\n",
    "        if train_labels[pred]==dossier:\n",
    "            score+=1\n",
    "        total+=1\n",
    "print(score/total)"
   ]
  },
  {
   "cell_type": "code",
   "execution_count": null,
   "metadata": {},
   "outputs": [],
   "source": []
  }
 ],
 "metadata": {
  "kernelspec": {
   "display_name": "Python 3",
   "language": "python",
   "name": "python3"
  },
  "language_info": {
   "codemirror_mode": {
    "name": "ipython",
    "version": 3
   },
   "file_extension": ".py",
   "mimetype": "text/x-python",
   "name": "python",
   "nbconvert_exporter": "python",
   "pygments_lexer": "ipython3",
   "version": "3.7.6"
  }
 },
 "nbformat": 4,
 "nbformat_minor": 4
}
